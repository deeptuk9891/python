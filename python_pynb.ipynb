{
  "nbformat": 4,
  "nbformat_minor": 0,
  "metadata": {
    "colab": {
      "provenance": []
    },
    "kernelspec": {
      "name": "python3",
      "display_name": "Python 3"
    },
    "language_info": {
      "name": "python"
    }
  },
  "cells": [
    {
      "cell_type": "code",
      "execution_count": null,
      "metadata": {
        "colab": {
          "base_uri": "https://localhost:8080/"
        },
        "id": "74lZ1h6jfhA9",
        "outputId": "adad5e99-4f74-4a00-8d59-dc79502a3ab4"
      },
      "outputs": [
        {
          "output_type": "stream",
          "name": "stdout",
          "text": [
            "Hello word\n"
          ]
        }
      ],
      "source": [
        "print (\"Hello word\")"
      ]
    },
    {
      "cell_type": "markdown",
      "source": [
        " What is Python, and why is it popular\n",
        " - python is very easy to understand\n",
        ""
      ],
      "metadata": {
        "id": "H_x4sECNf5iI"
      }
    },
    {
      "cell_type": "markdown",
      "source": [],
      "metadata": {
        "id": "dAx1E36lhTnn"
      }
    },
    {
      "cell_type": "code",
      "source": [
        "# question\n",
        "###\n",
        "answer"
      ],
      "metadata": {
        "id": "ZgAmNCg4hlLH"
      },
      "execution_count": null,
      "outputs": []
    },
    {
      "cell_type": "code",
      "source": [],
      "metadata": {
        "id": "ZPHWbjpFfunu"
      },
      "execution_count": null,
      "outputs": []
    }
  ]
}